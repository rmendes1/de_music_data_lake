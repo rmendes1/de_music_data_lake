{
 "cells": [
  {
   "cell_type": "code",
   "execution_count": 0,
   "metadata": {
    "application/vnd.databricks.v1+cell": {
     "cellMetadata": {},
     "inputWidgets": {},
     "nuid": "5024cb21-7c12-44b5-809b-8994e2744e60",
     "showTitle": true,
     "tableResultSettingsMap": {},
     "title": "Imports"
    }
   },
   "outputs": [],
   "source": [
    "from pyspark.sql.functions import lit\n",
    "from pyspark.sql.types import StructType, StructField, StringType, LongType, TimestampType\n",
    "from delta import DeltaTable\n",
    "import sys\n",
    "sys.path.insert(0, \"../lib/\")\n",
    "\n",
    "import utils"
   ]
  },
  {
   "cell_type": "code",
   "execution_count": 0,
   "metadata": {
    "application/vnd.databricks.v1+cell": {
     "cellMetadata": {},
     "inputWidgets": {},
     "nuid": "b6bc37c4-d623-44b1-a60a-ac3f07630713",
     "showTitle": true,
     "tableResultSettingsMap": {},
     "title": "Full-Load Bronze"
    }
   },
   "outputs": [],
   "source": [
    "df_tracks = spark.read.format(\"parquet\").load(\"/Volumes/raw/music_data/tracks\")\n",
    "df_tracks.coalesce(1).write.format(\"delta\").saveAsTable(\"bronze.music_data.tracks\")\n",
    "schema_name = \"tracks\""
   ]
  },
  {
   "cell_type": "code",
   "execution_count": 0,
   "metadata": {
    "application/vnd.databricks.v1+cell": {
     "cellMetadata": {
      "byteLimit": 2048000,
      "rowLimit": 10000
     },
     "inputWidgets": {},
     "nuid": "08c1c369-31ad-4f70-bf07-45b902bda624",
     "showTitle": true,
     "tableResultSettingsMap": {},
     "title": "Obtendo schema da tabela a ser processada"
    }
   },
   "outputs": [],
   "source": [
    "# Define o esquema esperado para os arquivos de CDC\n",
    "\n",
    "with open(\"/Workspace/Users/cartoesdojoao123@gmail.com/music_data_lake/bronze/music_data_schemas.json\", \"r\") as file:\n",
    "    schema_data = json.load(file)\n",
    "\n",
    "schema_name = \"tracks\"\n",
    "try:\n",
    "    cdc_schema = utils.get_schema(schema_name=schema_name, schema_data=schema_data)\n",
    "except ValueError as e:\n",
    "    logger.error(f\"Error loading schema for topic {topic}: {e}\")\n",
    "    break\n",
    "\n"
   ]
  },
  {
   "cell_type": "code",
   "execution_count": 0,
   "metadata": {
    "application/vnd.databricks.v1+cell": {
     "cellMetadata": {},
     "inputWidgets": {},
     "nuid": "8f85a2ee-3628-45ed-9c6a-6716f80dae99",
     "showTitle": false,
     "tableResultSettingsMap": {},
     "title": ""
    }
   },
   "outputs": [],
   "source": []
  }
 ],
 "metadata": {
  "application/vnd.databricks.v1+notebook": {
   "computePreferences": null,
   "dashboards": [],
   "environmentMetadata": {
    "base_environment": "",
    "environment_version": "2"
   },
   "language": "python",
   "notebookMetadata": {
    "pythonIndentUnit": 4
   },
   "notebookName": "ingestion",
   "widgets": {}
  },
  "language_info": {
   "name": "python"
  }
 },
 "nbformat": 4,
 "nbformat_minor": 0
}
