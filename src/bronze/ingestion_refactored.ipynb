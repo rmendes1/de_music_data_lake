{
 "cells": [
  {
   "cell_type": "code",
   "execution_count": 0,
   "metadata": {
    "application/vnd.databricks.v1+cell": {
     "cellMetadata": {},
     "inputWidgets": {},
     "nuid": "19dfb0f7-e5f6-4605-8901-5758a0f43595",
     "showTitle": false,
     "tableResultSettingsMap": {},
     "title": ""
    }
   },
   "outputs": [],
   "source": [
    "import sys\n",
    "sys.path.append(f'/Workspace/Users/{dbutils.widgets.get(\"account\")}/music_data_lake/src/lib')\n",
    "\n",
    "import utils\n",
    "from preprocessing import TRANSFORMATIONS, transform_generic\n",
    "\n",
    "from ingestors import GenericIngestor\n",
    "\n",
    "# Pega o JSON passado como argumento do job\n",
    "table_config = {\n",
    "  \"catalog\": dbutils.widgets.get(\"catalog\"),\n",
    "  \"schema\": dbutils.widgets.get(\"schema\"),\n",
    "  \"tablename\": dbutils.widgets.get(\"tablename\"),\n",
    "  \"primary_key\": dbutils.widgets.get(\"primary_key\"),\n",
    "  \"timestamp_field\": dbutils.widgets.get(\"timestamp_field\")\n",
    "}\n",
    "\n",
    "ingestor = GenericIngestor(spark, table_config)\n",
    "\n",
    "# Full Load, se necessário\n",
    "ingestor.execute_full_load()\n",
    "\n",
    "# Lê o stream\n",
    "table_schema = utils.import_schema(ingestor.tablename, spark)\n",
    "df_stream = (spark.readStream\n",
    "                .format(\"parquet\")\n",
    "                .option(\"cloudFiles.format\", \"parquet\")\n",
    "                .schema(table_schema)\n",
    "                .load(f\"/Volumes/raw/{ingestor.schema}/cdc/postgres.public.{ingestor.tablename}/\"))\n",
    "\n",
    "# Aplica transformação específica se existir, caso contrario aplica transformação genérica\n",
    "transform_function = TRANSFORMATIONS.get(ingestor.schema, \"others\")\n",
    "df_stream = transform_function(df_stream)\n",
    "\n",
    "# Processa o CDC\n",
    "cdc_stream = ingestor.process_stream(df_stream)\n",
    "cdc_stream.start()\n",
    "\n"
   ]
  }
 ],
 "metadata": {
  "application/vnd.databricks.v1+notebook": {
   "computePreferences": null,
   "dashboards": [],
   "environmentMetadata": {
    "base_environment": "",
    "environment_version": "2"
   },
   "inputWidgetPreferences": null,
   "language": "python",
   "notebookMetadata": {
    "mostRecentlyExecutedCommandWithImplicitDF": {
     "commandId": 2708655396107019,
     "dataframes": [
      "_sqldf"
     ]
    },
    "pythonIndentUnit": 4
   },
   "notebookName": "ingestion_refactored",
   "widgets": {}
  },
  "language_info": {
   "name": "python"
  }
 },
 "nbformat": 4,
 "nbformat_minor": 0
}
