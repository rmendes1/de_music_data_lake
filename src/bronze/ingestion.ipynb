{
 "cells": [
  {
   "cell_type": "code",
   "execution_count": 0,
   "metadata": {
    "application/vnd.databricks.v1+cell": {
     "cellMetadata": {
      "byteLimit": 2048000,
      "rowLimit": 10000
     },
     "inputWidgets": {},
     "nuid": "5024cb21-7c12-44b5-809b-8994e2744e60",
     "showTitle": true,
     "tableResultSettingsMap": {},
     "title": "Imports"
    }
   },
   "outputs": [],
   "source": [
    "from pyspark.sql.functions import lit\n",
    "import json\n",
    "from pyspark.sql.types import StructType, StructField, StringType, LongType, TimestampType\n",
    "from delta import DeltaTable\n",
    "import sys\n",
    "\n",
    "sys.path.insert(0, \"../lib/\")\n",
    "\n",
    "import utils"
   ]
  },
  {
   "cell_type": "code",
   "execution_count": 0,
   "metadata": {
    "application/vnd.databricks.v1+cell": {
     "cellMetadata": {
      "byteLimit": 2048000,
      "rowLimit": 10000
     },
     "inputWidgets": {},
     "nuid": "fe2d12b6-da67-4e3c-a54b-f74142047020",
     "showTitle": false,
     "tableResultSettingsMap": {},
     "title": ""
    }
   },
   "outputs": [],
   "source": [
    "df_full = spark.read.format(\"parquet\").load(\"/Volumes/raw/music_data/full_load/tracks/\")\n",
    "\n",
    "(df_full.coalesce(1)\n",
    "        .write\n",
    "        .format(\"delta\")\n",
    "        .mode(\"overwrite\")\n",
    "        .saveAsTable(\"bronze.music_data.tracks\"))\n",
    "\n",
    "df_full.display()"
   ]
  },
  {
   "cell_type": "code",
   "execution_count": 0,
   "metadata": {
    "application/vnd.databricks.v1+cell": {
     "cellMetadata": {
      "byteLimit": 2048000,
      "rowLimit": 10000
     },
     "inputWidgets": {},
     "nuid": "08c1c369-31ad-4f70-bf07-45b902bda624",
     "showTitle": true,
     "tableResultSettingsMap": {},
     "title": "Obtendo schema da tabela a ser processada"
    }
   },
   "outputs": [],
   "source": [
    "# Define o esquema esperado para os arquivos de CDC\n",
    "schema_name = \"tracks\"\n",
    "with open(\"/Workspace/Users/mydatabrickstestacc@gmail.com/music_data_lake/src/bronze/music_data_schemas.json\", \"r\") as file:\n",
    "    schema_data = json.load(file)\n",
    "\n",
    "try:\n",
    "    cdc_schema = utils.get_schema(schema_name=schema_name, schema_json=schema_data)\n",
    "except ValueError as e:\n",
    "    print(e)"
   ]
  },
  {
   "cell_type": "code",
   "execution_count": 0,
   "metadata": {
    "application/vnd.databricks.v1+cell": {
     "cellMetadata": {
      "byteLimit": 2048000,
      "rowLimit": 10000
     },
     "inputWidgets": {},
     "nuid": "8f85a2ee-3628-45ed-9c6a-6716f80dae99",
     "showTitle": false,
     "tableResultSettingsMap": {},
     "title": ""
    }
   },
   "outputs": [],
   "source": [
    "# Caminhos dos arquivos Parquet\n",
    "inserts_path = \"/Volumes/raw/music_data/cdc/postgres.public.tracks/inserts/\"\n",
    "updates_path = \"/Volumes/raw/music_data/cdc/postgres.public.tracks/updates/\"\n",
    "deletes_path = \"/Volumes/raw/music_data/cdc/postgres.public.tracks/deletes/\"\n",
    "\n",
    "df_cdc_inserts = (spark.read\n",
    "      .format(\"parquet\")\n",
    "      .load(inserts_path)\n",
    "      .withColumn(\"operation\", lit(\"insert\")))\n",
    "\n",
    "df_cdc_updates = (spark.read\n",
    "      .format(\"parquet\")\n",
    "      .load(updates_path)\n",
    "      .withColumn(\"operation\", lit(\"update\")))\n",
    "\n",
    "df_cdc_deletes = (spark.read\n",
    "      .format(\"parquet\")\n",
    "      .load(deletes_path)\n",
    "      .withColumn(\"operation\", lit(\"delete\")))"
   ]
  },
  {
   "cell_type": "code",
   "execution_count": 0,
   "metadata": {
    "application/vnd.databricks.v1+cell": {
     "cellMetadata": {
      "byteLimit": 2048000,
      "implicitDf": true,
      "rowLimit": 10000
     },
     "inputWidgets": {},
     "nuid": "6177dfff-1d0b-4651-a85e-22ba2012e9a4",
     "showTitle": false,
     "tableResultSettingsMap": {},
     "title": ""
    }
   },
   "outputs": [],
   "source": [
    "df_cdc_inserts.display()"
   ]
  },
  {
   "cell_type": "code",
   "execution_count": 0,
   "metadata": {
    "application/vnd.databricks.v1+cell": {
     "cellMetadata": {
      "byteLimit": 2048000,
      "rowLimit": 10000
     },
     "inputWidgets": {},
     "nuid": "68c87464-b150-4902-84e3-aa55a4a493e0",
     "showTitle": false,
     "tableResultSettingsMap": {},
     "title": ""
    }
   },
   "outputs": [],
   "source": [
    "df_cdc_updates.display()"
   ]
  },
  {
   "cell_type": "code",
   "execution_count": 0,
   "metadata": {
    "application/vnd.databricks.v1+cell": {
     "cellMetadata": {
      "byteLimit": 2048000,
      "rowLimit": 10000
     },
     "inputWidgets": {},
     "nuid": "f881092d-d19e-4233-aefb-0c8dfdd2a73d",
     "showTitle": false,
     "tableResultSettingsMap": {},
     "title": ""
    }
   },
   "outputs": [],
   "source": [
    "df_cdc_deletes.display()"
   ]
  },
  {
   "cell_type": "code",
   "execution_count": 0,
   "metadata": {
    "application/vnd.databricks.v1+cell": {
     "cellMetadata": {
      "byteLimit": 2048000,
      "rowLimit": 10000
     },
     "inputWidgets": {},
     "nuid": "31ca9813-ef98-4e1b-ab0a-d8499117caba",
     "showTitle": false,
     "tableResultSettingsMap": {},
     "title": ""
    }
   },
   "outputs": [],
   "source": [
    "df_cdc_union = df_cdc_inserts.union(df_cdc_updates).union(df_cdc_deletes)\n",
    "df_cdc_union.display()"
   ]
  },
  {
   "cell_type": "code",
   "execution_count": 0,
   "metadata": {
    "application/vnd.databricks.v1+cell": {
     "cellMetadata": {
      "byteLimit": 2048000,
      "rowLimit": 10000
     },
     "inputWidgets": {},
     "nuid": "6fcb6408-4bba-49b1-87c4-95d37e881b14",
     "showTitle": false,
     "tableResultSettingsMap": {},
     "title": ""
    }
   },
   "outputs": [],
   "source": [
    "if df_cdc_union.isEmpty():\n",
    "    print(\"Nenhum dado encontrado para processar. Finalizando o fluxo.\")\n",
    "else:\n",
    "    from pyspark.sql.window import Window\n",
    "    from pyspark.sql.functions import row_number, desc\n",
    "\n",
    "    # Janela para deduplicação baseada em artist_id e ts_ms mais recente\n",
    "    window_spec = Window.partitionBy(\"artist_id\", \"track_id\", \"operation\").orderBy(desc(\"ts_ms\"))\n",
    "\n",
    "    # Deduplicar registros\n",
    "    deduplicated_cdc_df = df_cdc_union.withColumn(\"row_number\", row_number().over(window_spec)) \\\n",
    "                                      .filter(\"row_number = 1\") \\\n",
    "                                      .drop(\"row_number\")"
   ]
  },
  {
   "cell_type": "code",
   "execution_count": 0,
   "metadata": {
    "application/vnd.databricks.v1+cell": {
     "cellMetadata": {
      "byteLimit": 2048000,
      "rowLimit": 10000
     },
     "inputWidgets": {},
     "nuid": "e4e97327-ee6e-4993-814f-949e2b34e042",
     "showTitle": false,
     "tableResultSettingsMap": {},
     "title": ""
    }
   },
   "outputs": [],
   "source": [
    "deduplicated_cdc_df.display()"
   ]
  },
  {
   "cell_type": "code",
   "execution_count": 0,
   "metadata": {
    "application/vnd.databricks.v1+cell": {
     "cellMetadata": {
      "byteLimit": 2048000,
      "rowLimit": 10000
     },
     "inputWidgets": {},
     "nuid": "63350ef5-0eb2-4f9a-9a93-bc9bfa661787",
     "showTitle": false,
     "tableResultSettingsMap": {},
     "title": ""
    }
   },
   "outputs": [],
   "source": [
    "bronze = DeltaTable.forName(spark, \"bronze.music_data.tracks\")\n",
    "    \n",
    "# Realizar o MERGE combinando upsert e delete\n",
    "(bronze.alias(\"target\").merge(\n",
    "    deduplicated_cdc_df.alias(\"source\"),\n",
    "    \"target.track_id = source.track_id\"  # Condição de correspondência\n",
    ").whenMatchedUpdateAll(condition=\"source.operation != 'delete'\")  # Atualiza se não for delete\n",
    "    .whenNotMatchedInsertAll(condition=\"source.operation != 'delete'\")  # Insere se não for delete\n",
    "    .whenMatchedDelete(condition=\"source.operation = 'delete'\")  # Exclui se for delete\n",
    "    .execute())"
   ]
  },
  {
   "cell_type": "code",
   "execution_count": 0,
   "metadata": {
    "application/vnd.databricks.v1+cell": {
     "cellMetadata": {
      "byteLimit": 2048000,
      "implicitDf": true,
      "rowLimit": 10000
     },
     "inputWidgets": {},
     "nuid": "196c4158-a399-4655-846b-4af9ed5dbf81",
     "showTitle": false,
     "tableResultSettingsMap": {},
     "title": ""
    }
   },
   "outputs": [],
   "source": [
    "%sql\n",
    "SELECT * from bronze.music_data.tracks WHERE track_id in (3234505031, 3234505033, 3234505034)"
   ]
  },
  {
   "cell_type": "code",
   "execution_count": 0,
   "metadata": {
    "application/vnd.databricks.v1+cell": {
     "cellMetadata": {
      "byteLimit": 2048000,
      "implicitDf": true,
      "rowLimit": 10000
     },
     "inputWidgets": {},
     "nuid": "f9711a29-ff33-4f45-af6d-4565fdb86345",
     "showTitle": false,
     "tableResultSettingsMap": {},
     "title": ""
    }
   },
   "outputs": [],
   "source": [
    "%sql\n",
    "SELECT * from bronze.music_data.tracks VERSION AS OF 2 WHERE track_id in (3234505031, 3234505033, 3234505034)"
   ]
  }
 ],
 "metadata": {
  "application/vnd.databricks.v1+notebook": {
   "computePreferences": null,
   "dashboards": [],
   "environmentMetadata": {
    "base_environment": "",
    "environment_version": "2"
   },
   "language": "python",
   "notebookMetadata": {
    "mostRecentlyExecutedCommandWithImplicitDF": {
     "commandId": 8220867080326139,
     "dataframes": [
      "_sqldf"
     ]
    },
    "pythonIndentUnit": 4
   },
   "notebookName": "ingestion",
   "widgets": {}
  },
  "language_info": {
   "name": "python"
  }
 },
 "nbformat": 4,
 "nbformat_minor": 0
}
