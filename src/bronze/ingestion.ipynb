{
 "cells": [
  {
   "cell_type": "code",
   "execution_count": 0,
   "metadata": {
    "application/vnd.databricks.v1+cell": {
     "cellMetadata": {
      "byteLimit": 2048000,
      "rowLimit": 10000
     },
     "inputWidgets": {},
     "nuid": "5024cb21-7c12-44b5-809b-8994e2744e60",
     "showTitle": true,
     "tableResultSettingsMap": {},
     "title": "Imports"
    }
   },
   "outputs": [],
   "source": [
    "\n",
    "from pyspark.sql.functions import lit\n",
    "import json\n",
    "from pyspark.sql.types import StructType, StructField, StringType, LongType, TimestampType\n",
    "from delta import DeltaTable\n",
    "import sys\n",
    "\n",
    "sys.path.insert(0, \"../lib/\")\n",
    "import utils\n"
   ]
  },
  {
   "cell_type": "code",
   "execution_count": 0,
   "metadata": {
    "application/vnd.databricks.v1+cell": {
     "cellMetadata": {
      "byteLimit": 2048000,
      "rowLimit": 10000
     },
     "inputWidgets": {},
     "nuid": "fe2d12b6-da67-4e3c-a54b-f74142047020",
     "showTitle": false,
     "tableResultSettingsMap": {},
     "title": ""
    }
   },
   "outputs": [],
   "source": [
    "df_full = spark.read.format(\"parquet\").load(\"/Volumes/raw/music_data/full_load/tracks/\")\n",
    "\n",
    "(df_full.coalesce(1)\n",
    "        .write\n",
    "        .format(\"delta\")\n",
    "        .mode(\"overwrite\")\n",
    "        .saveAsTable(\"bronze.music_data.tracks\"))\n",
    "\n",
    "df_full.display()"
   ]
  },
  {
   "cell_type": "code",
   "execution_count": 0,
   "metadata": {
    "application/vnd.databricks.v1+cell": {
     "cellMetadata": {
      "byteLimit": 2048000,
      "rowLimit": 10000
     },
     "inputWidgets": {},
     "nuid": "08c1c369-31ad-4f70-bf07-45b902bda624",
     "showTitle": true,
     "tableResultSettingsMap": {},
     "title": "Obtendo schema da tabela a ser processada"
    }
   },
   "outputs": [],
   "source": [
    "# Define o esquema esperado para os arquivos de CDC\n",
    "schema_name = \"tracks\"\n",
    "with open(\"/Workspace/Users/mydatabrickstestacc@gmail.com/music_data_lake/src/bronze/music_data_schemas.json\", \"r\") as file:\n",
    "    schema_data = json.load(file)\n",
    "\n",
    "try:\n",
    "    cdc_schema = utils.get_schema(schema_name=schema_name, schema_json=schema_data)\n",
    "except ValueError as e:\n",
    "    print(e)"
   ]
  },
  {
   "cell_type": "code",
   "execution_count": 0,
   "metadata": {
    "application/vnd.databricks.v1+cell": {
     "cellMetadata": {
      "byteLimit": 2048000,
      "rowLimit": 10000
     },
     "inputWidgets": {},
     "nuid": "8f85a2ee-3628-45ed-9c6a-6716f80dae99",
     "showTitle": false,
     "tableResultSettingsMap": {},
     "title": ""
    }
   },
   "outputs": [],
   "source": [
    "# Caminhos dos arquivos Parquet\n",
    "df_cdc = spark.read.format(\"parquet\").load(\"/Volumes/raw/music_data/cdc/postgres.public.tracks/\")\n",
    "df_cdc.display()"
   ]
  },
  {
   "cell_type": "code",
   "execution_count": 0,
   "metadata": {
    "application/vnd.databricks.v1+cell": {
     "cellMetadata": {
      "byteLimit": 2048000,
      "rowLimit": 10000
     },
     "inputWidgets": {},
     "nuid": "6fcb6408-4bba-49b1-87c4-95d37e881b14",
     "showTitle": false,
     "tableResultSettingsMap": {},
     "title": ""
    }
   },
   "outputs": [],
   "source": [
    "if df_cdc.isEmpty():\n",
    "    print(\"Nenhum dado encontrado para processar. Finalizando o fluxo.\")\n",
    "else:\n",
    "    from pyspark.sql.window import Window\n",
    "    from pyspark.sql.functions import row_number, desc, col\n",
    "\n",
    "    # Janela para deduplicação baseada em artist_id e ts_ms mais recente\n",
    "    window_spec = Window.partitionBy(\"track_id\").orderBy(desc(\"ts_ms\"))\n",
    "\n",
    "    # Deduplicar registros\n",
    "    cdc_df_recents = df_cdc.withColumn(\"row_number\", row_number().over(window_spec)) \\\n",
    "                                      .filter(\"row_number = 1\") \\\n",
    "                                      .drop(\"row_number\") \\\n",
    "                                      .filter(\n",
    "                                          col(\"track_id\").isNotNull())\n",
    "\n",
    "cdc_df_recents.display()                                    "
   ]
  },
  {
   "cell_type": "code",
   "execution_count": 0,
   "metadata": {
    "application/vnd.databricks.v1+cell": {
     "cellMetadata": {
      "byteLimit": 2048000,
      "rowLimit": 10000
     },
     "inputWidgets": {},
     "nuid": "63350ef5-0eb2-4f9a-9a93-bc9bfa661787",
     "showTitle": false,
     "tableResultSettingsMap": {},
     "title": ""
    }
   },
   "outputs": [],
   "source": [
    "bronze = DeltaTable.forName(spark, \"bronze.music_data.tracks\")\n",
    "    \n",
    "# Realizar o MERGE combinando upsert e delete\n",
    "(bronze.alias(\"target\")\n",
    "        .merge(cdc_df_recents.alias(\"source\"), \"target.track_id = source.track_id\")\n",
    "        .whenMatchedDelete(condition = \"source.operation = 'd'\")\n",
    "        .whenMatchedUpdateAll(condition = \"source.operation = 'u'\")\n",
    "        .whenNotMatchedInsertAll(condition = \"source.operation = 'c' OR source.operation = 'u'\")\n",
    "        .execute()\n",
    ")"
   ]
  }
 ],
 "metadata": {
  "application/vnd.databricks.v1+notebook": {
   "computePreferences": null,
   "dashboards": [],
   "environmentMetadata": {
    "base_environment": "",
    "environment_version": "2"
   },
   "language": "python",
   "notebookMetadata": {
    "mostRecentlyExecutedCommandWithImplicitDF": {
     "commandId": 8137535469985091,
     "dataframes": [
      "_sqldf"
     ]
    },
    "pythonIndentUnit": 4
   },
   "notebookName": "ingestion",
   "widgets": {}
  },
  "language_info": {
   "name": "python"
  }
 },
 "nbformat": 4,
 "nbformat_minor": 0
}
