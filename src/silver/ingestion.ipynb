{
 "cells": [
  {
   "cell_type": "code",
   "execution_count": 0,
   "metadata": {
    "application/vnd.databricks.v1+cell": {
     "cellMetadata": {
      "byteLimit": 2048000,
      "implicitDf": true,
      "rowLimit": 10000
     },
     "inputWidgets": {},
     "nuid": "bbaf6411-e96e-4269-bd6a-edbf60e02e49",
     "showTitle": false,
     "tableResultSettingsMap": {
      "0": {
       "filterBlob": "{\"filterGroups\":[],\"syncTimestamp\":1741556350953}",
       "tableResultIndex": 0
      }
     },
     "title": ""
    }
   },
   "outputs": [],
   "source": [
    "%sql\n",
    "\n",
    "-- SELECT * FROM bronze.music_data.albums\n",
    "-- On Air - Live At The BBC (Vol.2)\n",
    "\n",
    "-- UPDATE bronze.music_data.albums SET album_title=\"On Air - Live At The BBC (Vol.2)\" WHERE album_id=67272022\n",
    "\n",
    "-- SELECT * FROM bronze.music_data.albums WHERE album_id=67272022\n",
    "-- SELECT * FROM silver.music_data.albums WHERE albumId=67272022\n",
    "-- SELECT * from table_changes(\"bronze.music_data.albums\", 0, 2)\n",
    "\n",
    "-- select \n",
    "\n",
    "-- select * from table_changes(\"bronze.music_data.albums\", 0, 3)\n",
    "\n",
    "-- -- SELECT COUNT(*) FROM silver.music_data.albums\n",
    "-- SELECT COUNT(*) FROM bronze.music_data.albums\n",
    "-- SELECT * FROM silver.music_data.albums WHERE albumId=132\n",
    "-- DROP TABLE silver.music_data.albums;\n",
    "-- DROP TABLE silver.music_data.tracks;\n",
    "-- DROP TABLE silver.music_data.albums_genres;\n",
    "-- DROP TABLE silver.music_data.genres;\n",
    "-- DROP TABLE silver.music_data.artists;\n",
    "-- DROP TABLE bronze.music_data.albums;\n",
    "-- DROP TABLE bronze.music_data.tracks;\n",
    "-- DROP TABLE bronze.music_data.albums_genres;\n",
    "-- DROP TABLE bronze.music_data.genres;\n",
    "-- DROP TABLE bronze.music_data.artists;\n"
   ]
  },
  {
   "cell_type": "code",
   "execution_count": 0,
   "metadata": {
    "application/vnd.databricks.v1+cell": {
     "cellMetadata": {
      "byteLimit": 2048000,
      "rowLimit": 10000
     },
     "inputWidgets": {},
     "nuid": "99c6f575-aef6-4a42-9d7b-a8fec4583027",
     "showTitle": false,
     "tableResultSettingsMap": {},
     "title": ""
    }
   },
   "outputs": [],
   "source": [
    "import sys\n",
    "# sys.path.append(f'/Workspace/Users/{dbutils.widgets.get(\"account\")}/music_data_lake/src/lib')\n",
    "sys.path.append(f'/Workspace/Users/mydatabrickstestacc@gmail.com/music_data_lake/src/lib')\n",
    "# sys.path.insert(0, '../lib')\n",
    "\n",
    "import utils\n",
    "import ingestors\n",
    "\n",
    "config = {\n",
    "    \"catalog\": \"silver\",\n",
    "    \"schema\": \"music_data\",\n",
    "    \"tablename\": \"albums\",\n",
    "    \"primary_key\": \"albumId\",\n",
    "    \"id_field_old\": \"album_id\",\n",
    "    \"timestamp_field\": \"_commit_timestamp\"\n",
    "}"
   ]
  },
  {
   "cell_type": "code",
   "execution_count": 0,
   "metadata": {
    "application/vnd.databricks.v1+cell": {
     "cellMetadata": {
      "byteLimit": 2048000,
      "rowLimit": 10000
     },
     "collapsed": true,
     "inputWidgets": {},
     "nuid": "caeed24e-2e58-45b8-aff5-72a99e87889e",
     "showTitle": false,
     "tableResultSettingsMap": {},
     "title": ""
    }
   },
   "outputs": [],
   "source": [
    "config = {\n",
    "    \"catalog\": dbutils.widgets.get(\"catalog\"),\n",
    "    \"schema\": dbutils.widgets.get(\"schema\"),\n",
    "    \"tablename\": dbutils.widgets.get(\"tablename\"),\n",
    "    \"primary_key\": dbutils.widgets.get(\"primary_key\"),\n",
    "    \"timestamp_field\": dbutils.widgets.get(\"timestamp_field\"),\n",
    "    \"id_field_old\": dbutils.widgets.get(\"id_field_old\")\n",
    "}"
   ]
  },
  {
   "cell_type": "code",
   "execution_count": 0,
   "metadata": {
    "application/vnd.databricks.v1+cell": {
     "cellMetadata": {
      "byteLimit": 2048000,
      "rowLimit": 10000
     },
     "inputWidgets": {},
     "nuid": "f82bf831-d316-47d9-b893-4fcf4bfddf3e",
     "showTitle": false,
     "tableResultSettingsMap": {},
     "title": ""
    }
   },
   "outputs": [],
   "source": [
    "remove_checkpoint = False\n",
    "\n",
    "if not utils.table_exists(spark, config[\"catalog\"], config[\"schema\"], config[\"tablename\"]):\n",
    "\n",
    "    print(\"Criando a tabela\", config[\"tablename\"])\n",
    "    path = f\"{config['tablename']}.sql\"\n",
    "    with open(path, \"r\") as open_file:\n",
    "        query = open_file.read()\n",
    "    (spark.sql(query)\n",
    "          .write\n",
    "          .format(\"delta\")\n",
    "          .mode(\"overwrite\")\n",
    "          .option(\"overwriteSchema\", \"true\")\n",
    "          .saveAsTable(f\"{config['catalog']}.{config['schema']}.{config['tablename']}\"))\n",
    "    \n",
    "    remove_checkpoint = True\n",
    "\n",
    "else:\n",
    "    print(\"tabela ja existente\")"
   ]
  },
  {
   "cell_type": "code",
   "execution_count": 0,
   "metadata": {
    "application/vnd.databricks.v1+cell": {
     "cellMetadata": {
      "byteLimit": 2048000,
      "rowLimit": 10000
     },
     "inputWidgets": {},
     "nuid": "34e4c485-32c5-40fb-bc1b-48868247f4b6",
     "showTitle": false,
     "tableResultSettingsMap": {},
     "title": ""
    }
   },
   "outputs": [],
   "source": [
    "print(\"Iniciando CDF...\")\n",
    "\n",
    "ingest = ingestors.SilverIngestor(spark=spark,\n",
    "                               config=config)"
   ]
  },
  {
   "cell_type": "code",
   "execution_count": 0,
   "metadata": {
    "application/vnd.databricks.v1+cell": {
     "cellMetadata": {
      "byteLimit": 2048000,
      "rowLimit": 10000
     },
     "inputWidgets": {},
     "nuid": "0928c70a-0624-4a1c-b0b5-1906ac7a31a1",
     "showTitle": false,
     "tableResultSettingsMap": {},
     "title": ""
    }
   },
   "outputs": [],
   "source": [
    "if remove_checkpoint:\n",
    "    dbutils.fs.rm(ingest.checkpoint_location, True)"
   ]
  },
  {
   "cell_type": "code",
   "execution_count": 0,
   "metadata": {
    "application/vnd.databricks.v1+cell": {
     "cellMetadata": {
      "byteLimit": 2048000,
      "rowLimit": 10000
     },
     "inputWidgets": {},
     "nuid": "8470b2a7-9909-4805-ac03-bc0a6739d9ed",
     "showTitle": false,
     "tableResultSettingsMap": {},
     "title": ""
    }
   },
   "outputs": [],
   "source": [
    "stream = ingest.run()"
   ]
  }
 ],
 "metadata": {
  "application/vnd.databricks.v1+notebook": {
   "computePreferences": null,
   "dashboards": [],
   "environmentMetadata": {
    "base_environment": "",
    "environment_version": "2"
   },
   "language": "python",
   "notebookMetadata": {
    "mostRecentlyExecutedCommandWithImplicitDF": {
     "commandId": 2838669942674747,
     "dataframes": [
      "_sqldf"
     ]
    },
    "pythonIndentUnit": 4
   },
   "notebookName": "ingestion",
   "widgets": {}
  },
  "language_info": {
   "name": "python"
  }
 },
 "nbformat": 4,
 "nbformat_minor": 0
}
