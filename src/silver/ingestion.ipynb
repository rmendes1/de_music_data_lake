{
 "cells": [
  {
   "cell_type": "code",
   "execution_count": 0,
   "metadata": {
    "application/vnd.databricks.v1+cell": {
     "cellMetadata": {
      "byteLimit": 2048000,
      "rowLimit": 10000
     },
     "inputWidgets": {},
     "nuid": "99c6f575-aef6-4a42-9d7b-a8fec4583027",
     "showTitle": false,
     "tableResultSettingsMap": {},
     "title": ""
    }
   },
   "outputs": [],
   "source": [
    "import sys\n",
    "sys.path.insert(0, '../lib')\n",
    "\n",
    "import utils\n",
    "import ingestors\n",
    "\n",
    "config = {\n",
    "    \"catalog\": dbutils.widgets.get(\"catalog\"),\n",
    "    \"schema\": dbutils.widgets.get(\"schema\"),\n",
    "    \"account\": dbutils.widgets.get(\"account\"),\n",
    "    \"tablename\": dbutils.widgets.get(\"tablename\"),\n",
    "    \"primary_key\": dbutils.widgets.get(\"primary_key\"),\n",
    "    \"id_field_old\": dbutils.widgets.get(\"id_field_old\"),\n",
    "    \"timestamp_field\": dbutils.widgets.get(\"timestamp_field\")\n",
    "}"
   ]
  },
  {
   "cell_type": "code",
   "execution_count": 0,
   "metadata": {
    "application/vnd.databricks.v1+cell": {
     "cellMetadata": {
      "byteLimit": 2048000,
      "rowLimit": 10000
     },
     "inputWidgets": {},
     "nuid": "f82bf831-d316-47d9-b893-4fcf4bfddf3e",
     "showTitle": false,
     "tableResultSettingsMap": {},
     "title": ""
    }
   },
   "outputs": [],
   "source": [
    "remove_checkpoint = False\n",
    "\n",
    "if not utils.table_exists(spark, config[\"catalog\"], config[\"schema\"], config[\"tablename\"]):\n",
    "\n",
    "    print(\"Criando a tabela\", config[\"tablename\"])\n",
    "    path = f\"{config['tablename']}.sql\"\n",
    "    with open(path, \"r\") as open_file:\n",
    "        query = open_file.read()\n",
    "    (spark.sql(query)\n",
    "          .write\n",
    "          .format(\"delta\")\n",
    "          .mode(\"overwrite\")\n",
    "          .option(\"overwriteSchema\", \"true\")\n",
    "          .saveAsTable(f\"{config['catalog']}.{config['schema']}.{config['tablename']}\"))\n",
    "    \n",
    "    remove_checkpoint = True\n",
    "\n",
    "else:\n",
    "    print(\"tabela ja existente\")"
   ]
  },
  {
   "cell_type": "code",
   "execution_count": 0,
   "metadata": {
    "application/vnd.databricks.v1+cell": {
     "cellMetadata": {
      "byteLimit": 2048000,
      "rowLimit": 10000
     },
     "inputWidgets": {},
     "nuid": "34e4c485-32c5-40fb-bc1b-48868247f4b6",
     "showTitle": false,
     "tableResultSettingsMap": {},
     "title": ""
    }
   },
   "outputs": [],
   "source": [
    "print(\"Iniciando CDF...\")\n",
    "\n",
    "ingest = ingestors.SilverIngestor(spark=spark,\n",
    "                               config=config)"
   ]
  },
  {
   "cell_type": "code",
   "execution_count": 0,
   "metadata": {
    "application/vnd.databricks.v1+cell": {
     "cellMetadata": {
      "byteLimit": 2048000,
      "rowLimit": 10000
     },
     "inputWidgets": {},
     "nuid": "0928c70a-0624-4a1c-b0b5-1906ac7a31a1",
     "showTitle": false,
     "tableResultSettingsMap": {},
     "title": ""
    }
   },
   "outputs": [],
   "source": [
    "if remove_checkpoint:\n",
    "    dbutils.fs.rm(ingest.checkpoint_location, True)"
   ]
  },
  {
   "cell_type": "code",
   "execution_count": 0,
   "metadata": {
    "application/vnd.databricks.v1+cell": {
     "cellMetadata": {
      "byteLimit": 2048000,
      "rowLimit": 10000
     },
     "inputWidgets": {},
     "nuid": "8470b2a7-9909-4805-ac03-bc0a6739d9ed",
     "showTitle": false,
     "tableResultSettingsMap": {},
     "title": ""
    }
   },
   "outputs": [],
   "source": [
    "stream = ingest.run()"
   ]
  }
 ],
 "metadata": {
  "application/vnd.databricks.v1+notebook": {
   "computePreferences": null,
   "dashboards": [],
   "environmentMetadata": {
    "base_environment": "",
    "environment_version": "2"
   },
   "inputWidgetPreferences": null,
   "language": "python",
   "notebookMetadata": {
    "mostRecentlyExecutedCommandWithImplicitDF": {
     "commandId": 4609314364373001,
     "dataframes": [
      "_sqldf"
     ]
    },
    "pythonIndentUnit": 4
   },
   "notebookName": "ingestion",
   "widgets": {}
  },
  "language_info": {
   "name": "python"
  }
 },
 "nbformat": 4,
 "nbformat_minor": 0
}
