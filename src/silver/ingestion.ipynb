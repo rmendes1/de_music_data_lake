{
 "cells": [
  {
   "cell_type": "code",
   "execution_count": 0,
   "metadata": {
    "application/vnd.databricks.v1+cell": {
     "cellMetadata": {},
     "inputWidgets": {},
     "nuid": "99c6f575-aef6-4a42-9d7b-a8fec4583027",
     "showTitle": false,
     "tableResultSettingsMap": {},
     "title": ""
    }
   },
   "outputs": [],
   "source": [
    "import sys\n",
    "sys.path.append(f'/Workspace/Users/{dbutils.widgets.get(\"account\")}/music_data_lake/src/lib')\n",
    "\n",
    "import utils\n",
    "import ingestors"
   ]
  },
  {
   "cell_type": "code",
   "execution_count": 0,
   "metadata": {
    "application/vnd.databricks.v1+cell": {
     "cellMetadata": {},
     "inputWidgets": {},
     "nuid": "caeed24e-2e58-45b8-aff5-72a99e87889e",
     "showTitle": false,
     "tableResultSettingsMap": {},
     "title": ""
    }
   },
   "outputs": [],
   "source": [
    "config = {\n",
    "    \"catalog\": dbutils.widgets.get(\"catalog\"),\n",
    "    \"schema\": dbutils.widgets.get(\"schema\"),\n",
    "    \"tablename\": dbutils.widgets.get(\"tablename\"),\n",
    "    \"primary_key\": dbutils.widgets.get(\"primary_key\"),\n",
    "    \"timestamp_field\": dbutils.widgets.get(\"timestamp_field\"),\n",
    "    \"id_field_old\": dbutils.widgets.get(\"id_field_old\")\n",
    "}"
   ]
  },
  {
   "cell_type": "code",
   "execution_count": 0,
   "metadata": {
    "application/vnd.databricks.v1+cell": {
     "cellMetadata": {},
     "inputWidgets": {},
     "nuid": "f82bf831-d316-47d9-b893-4fcf4bfddf3e",
     "showTitle": false,
     "tableResultSettingsMap": {},
     "title": ""
    }
   },
   "outputs": [],
   "source": [
    "remove_checkpoint = False\n",
    "\n",
    "if not utils.table_exists(spark, config[\"catalog\"], config[\"schema\"], config[\"tablename\"]):\n",
    "\n",
    "    print(\"Criando a tabela\", config[\"tablename\"])\n",
    "    query = utils.import_query(f\"{config['tablename']}.sql\")\n",
    "    (spark.sql(query)\n",
    "          .write\n",
    "          .format(\"delta\")\n",
    "          .mode(\"overwrite\")\n",
    "          .option(\"overwriteSchema\", \"true\")\n",
    "          .saveAsTable(f\"{config['catalog']}.{config['schema']}.{config['tablename']}\"))\n",
    "    \n",
    "    remove_checkpoint = True"
   ]
  },
  {
   "cell_type": "code",
   "execution_count": 0,
   "metadata": {
    "application/vnd.databricks.v1+cell": {
     "cellMetadata": {},
     "inputWidgets": {},
     "nuid": "34e4c485-32c5-40fb-bc1b-48868247f4b6",
     "showTitle": false,
     "tableResultSettingsMap": {},
     "title": ""
    }
   },
   "outputs": [],
   "source": [
    "print(\"Iniciando CDF...\")\n",
    "\n",
    "ingest = ingestors.SilverIngestor(spark=spark,\n",
    "                               config=config)\n",
    "\n",
    "if remove_checkpoint:\n",
    "    dbutils.fs.rm(ingest.checkpoint_location, True)\n",
    "\n",
    "stream = ingest.run()\n",
    "print(\"Ok.\")"
   ]
  }
 ],
 "metadata": {
  "application/vnd.databricks.v1+notebook": {
   "computePreferences": null,
   "dashboards": [],
   "environmentMetadata": {
    "base_environment": "",
    "environment_version": "2"
   },
   "language": "python",
   "notebookMetadata": {
    "mostRecentlyExecutedCommandWithImplicitDF": {
     "commandId": 2708655396107320,
     "dataframes": [
      "_sqldf"
     ]
    },
    "pythonIndentUnit": 4
   },
   "notebookName": "ingestion",
   "widgets": {}
  },
  "language_info": {
   "name": "python"
  }
 },
 "nbformat": 4,
 "nbformat_minor": 0
}
